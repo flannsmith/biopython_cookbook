{
 "cells": [
  {
   "cell_type": "code",
   "execution_count": null,
   "metadata": {},
   "outputs": [],
   "source": [
    "from Bio import SeqIO\n",
    "from Bio.Seq import Seq\n",
    "from Bio.Alphabet import IUPAC"
   ]
  },
  {
   "cell_type": "code",
   "execution_count": 75,
   "metadata": {},
   "outputs": [
    {
     "name": "stdout",
     "output_type": "stream",
     "text": [
      "IUPACUnambiguousDNA()\n",
      "AGTACACTGGT\n",
      "A\n",
      "2\n",
      "3\n",
      "46.875\n",
      "GCTGTAGTAAG\n",
      "CGCTAAAAGCTAGGATATATCCGGGTAGCTAG\n"
     ]
    }
   ],
   "source": [
    "my_seq = Seq(\"AGTACACTGGT\", IUPAC.unambiguous_dna)\n",
    "print(my_seq.alphabet)\n",
    "\n",
    "my_prot = Seq(\"AGTACACTGGT\", IUPAC.protein)\n",
    "print(my_prot)\n",
    "\n",
    "#print(len(my_seq))\n",
    "print((my_seq[0]))\n",
    "\n",
    "#count occurrence of letters AA in sequence\n",
    "print(Seq(\"AAAA\").count(\"AA\"))\n",
    "\n",
    "print(my_seq.count(\"G\"))\n",
    "\n",
    "print(my_seq_2[0::3])\n",
    "\n",
    "#To reverse a Seq object or string: slice it with- 1\n",
    "print(my_seq3[::-1])\n",
    "\n",
    "protein_seq = Seq(\"EVRNAK\", IUPAC.protein)\n",
    "\n",
    "#protein_seq.complement()\n",
    "#print(protein_seq)\n",
    "#Error: proteins do not have complements! "
   ]
  },
  {
   "cell_type": "code",
   "execution_count": 78,
   "metadata": {},
   "outputs": [
    {
     "name": "stdout",
     "output_type": "stream",
     "text": [
      "46.875\n"
     ]
    }
   ],
   "source": [
    "from Bio.SeqUtils import GC\n",
    "#calculate GC percentage\n",
    "my_seq_2 = Seq(\"GATCGATGGGCCTATATAGGATCGAAAATCGC\", IUPAC.unambiguous_dna)\n",
    "print(GC(my_seq_2))"
   ]
  },
  {
   "cell_type": "code",
   "execution_count": 76,
   "metadata": {},
   "outputs": [
    {
     "data": {
      "text/plain": [
       "45.45454545454545"
      ]
     },
     "execution_count": 76,
     "metadata": {},
     "output_type": "execute_result"
    }
   ],
   "source": [
    "#calculate GC percentage\n",
    "100 * float(my_seq.count(\"G\") + my_seq.count(\"C\")) / len(my_seq)"
   ]
  },
  {
   "cell_type": "code",
   "execution_count": 79,
   "metadata": {},
   "outputs": [
    {
     "name": "stdout",
     "output_type": "stream",
     "text": [
      "CTAGCTACCCGGATATATCCTAGCTTTTAGCG\n",
      "GCGATTTTCGATCCTATATAGGCCCATCGATC\n"
     ]
    }
   ],
   "source": [
    "#nucleotide sequences and reverse complements\n",
    "my_seq3 = Seq(\"GATCGATGGGCCTATATAGGATCGAAAATCGC\", IUPAC.unambiguous_dna)\n",
    "print(my_seq3.complement())\n",
    "print(my_seq3.reverse_complement())\n"
   ]
  },
  {
   "cell_type": "markdown",
   "metadata": {},
   "source": [
    "#### What is the difference between complement and reverse complement?\n",
    "\n",
    "Normally, DNA occurs as a double strand where each A is paired with a T and vice versa, and each C is paired with a G and vice versa. The reverse complement of a DNA sequence is formed by reversing the letters, interchanging A and T and interchanging C and G. Thus the reverse complement of ACCTGAG is CTCAGGT."
   ]
  },
  {
   "cell_type": "code",
   "execution_count": 74,
   "metadata": {
    "scrolled": false
   },
   "outputs": [
    {
     "name": "stdout",
     "output_type": "stream",
     "text": [
      "gi|2765658|emb|Z78533.1|CIZ78533\n",
      "gi|2765657|emb|Z78532.1|CCZ78532\n",
      "gi|2765656|emb|Z78531.1|CFZ78531\n",
      "gi|2765655|emb|Z78530.1|CMZ78530\n",
      "gi|2765654|emb|Z78529.1|CLZ78529\n",
      "gi|2765652|emb|Z78527.1|CYZ78527\n",
      "gi|2765651|emb|Z78526.1|CGZ78526\n",
      "gi|2765650|emb|Z78525.1|CAZ78525\n",
      "gi|2765649|emb|Z78524.1|CFZ78524\n",
      "gi|2765648|emb|Z78523.1|CHZ78523\n",
      "gi|2765647|emb|Z78522.1|CMZ78522\n",
      "gi|2765646|emb|Z78521.1|CCZ78521\n",
      "gi|2765645|emb|Z78520.1|CSZ78520\n",
      "gi|2765644|emb|Z78519.1|CPZ78519\n",
      "gi|2765643|emb|Z78518.1|CRZ78518\n",
      "gi|2765642|emb|Z78517.1|CFZ78517\n",
      "gi|2765641|emb|Z78516.1|CPZ78516\n",
      "gi|2765640|emb|Z78515.1|MXZ78515\n",
      "gi|2765639|emb|Z78514.1|PSZ78514\n",
      "gi|2765638|emb|Z78513.1|PBZ78513\n",
      "gi|2765637|emb|Z78512.1|PWZ78512\n",
      "gi|2765636|emb|Z78511.1|PEZ78511\n",
      "gi|2765635|emb|Z78510.1|PCZ78510\n",
      "gi|2765634|emb|Z78509.1|PPZ78509\n",
      "gi|2765633|emb|Z78508.1|PLZ78508\n",
      "gi|2765632|emb|Z78507.1|PLZ78507\n",
      "gi|2765631|emb|Z78506.1|PLZ78506\n",
      "gi|2765630|emb|Z78505.1|PSZ78505\n",
      "gi|2765629|emb|Z78504.1|PKZ78504\n",
      "gi|2765628|emb|Z78503.1|PCZ78503\n",
      "gi|2765627|emb|Z78502.1|PBZ78502\n",
      "gi|2765626|emb|Z78501.1|PCZ78501\n",
      "gi|2765625|emb|Z78500.1|PWZ78500\n",
      "gi|2765624|emb|Z78499.1|PMZ78499\n",
      "gi|2765623|emb|Z78498.1|PMZ78498\n",
      "gi|2765622|emb|Z78497.1|PDZ78497\n",
      "gi|2765621|emb|Z78496.1|PAZ78496\n",
      "gi|2765620|emb|Z78495.1|PEZ78495\n",
      "gi|2765619|emb|Z78494.1|PNZ78494\n",
      "gi|2765618|emb|Z78493.1|PGZ78493\n",
      "gi|2765617|emb|Z78492.1|PBZ78492\n",
      "gi|2765616|emb|Z78491.1|PCZ78491\n",
      "gi|2765615|emb|Z78490.1|PFZ78490\n",
      "gi|2765614|emb|Z78489.1|PDZ78489\n",
      "gi|2765613|emb|Z78488.1|PTZ78488\n",
      "gi|2765612|emb|Z78487.1|PHZ78487\n",
      "gi|2765611|emb|Z78486.1|PBZ78486\n",
      "gi|2765610|emb|Z78485.1|PHZ78485\n",
      "gi|2765609|emb|Z78484.1|PCZ78484\n",
      "gi|2765608|emb|Z78483.1|PVZ78483\n",
      "gi|2765607|emb|Z78482.1|PEZ78482\n",
      "gi|2765606|emb|Z78481.1|PIZ78481\n",
      "gi|2765605|emb|Z78480.1|PGZ78480\n",
      "gi|2765604|emb|Z78479.1|PPZ78479\n",
      "gi|2765603|emb|Z78478.1|PVZ78478\n",
      "gi|2765602|emb|Z78477.1|PVZ78477\n",
      "gi|2765601|emb|Z78476.1|PGZ78476\n",
      "gi|2765600|emb|Z78475.1|PSZ78475\n",
      "gi|2765599|emb|Z78474.1|PKZ78474\n",
      "gi|2765598|emb|Z78473.1|PSZ78473\n",
      "gi|2765597|emb|Z78472.1|PLZ78472\n",
      "gi|2765596|emb|Z78471.1|PDZ78471\n",
      "gi|2765595|emb|Z78470.1|PPZ78470\n",
      "gi|2765594|emb|Z78469.1|PHZ78469\n",
      "gi|2765593|emb|Z78468.1|PAZ78468\n",
      "gi|2765592|emb|Z78467.1|PSZ78467\n",
      "gi|2765591|emb|Z78466.1|PPZ78466\n",
      "gi|2765590|emb|Z78465.1|PRZ78465\n",
      "gi|2765589|emb|Z78464.1|PGZ78464\n",
      "gi|2765588|emb|Z78463.1|PGZ78463\n",
      "gi|2765587|emb|Z78462.1|PSZ78462\n",
      "gi|2765586|emb|Z78461.1|PWZ78461\n",
      "gi|2765585|emb|Z78460.1|PCZ78460\n",
      "gi|2765584|emb|Z78459.1|PDZ78459\n",
      "gi|2765583|emb|Z78458.1|PHZ78458\n",
      "gi|2765582|emb|Z78457.1|PCZ78457\n",
      "gi|2765581|emb|Z78456.1|PTZ78456\n",
      "gi|2765580|emb|Z78455.1|PJZ78455\n",
      "gi|2765579|emb|Z78454.1|PFZ78454\n",
      "gi|2765578|emb|Z78453.1|PSZ78453\n",
      "gi|2765577|emb|Z78452.1|PBZ78452\n",
      "gi|2765576|emb|Z78451.1|PHZ78451\n",
      "gi|2765575|emb|Z78450.1|PPZ78450\n",
      "gi|2765574|emb|Z78449.1|PMZ78449\n",
      "gi|2765573|emb|Z78448.1|PAZ78448\n",
      "gi|2765572|emb|Z78447.1|PVZ78447\n",
      "gi|2765571|emb|Z78446.1|PAZ78446\n",
      "gi|2765570|emb|Z78445.1|PUZ78445\n",
      "gi|2765569|emb|Z78444.1|PAZ78444\n",
      "gi|2765568|emb|Z78443.1|PLZ78443\n",
      "gi|2765567|emb|Z78442.1|PBZ78442\n",
      "gi|2765566|emb|Z78441.1|PSZ78441\n",
      "gi|2765565|emb|Z78440.1|PPZ78440\n",
      "gi|2765564|emb|Z78439.1|PBZ78439\n"
     ]
    }
   ],
   "source": [
    "#read in data from fasta file\n",
    "for seq_record in SeqIO.parse('ls_orchid.fasta.rtf', \"fasta\"):\n",
    "    print(seq_record.id)\n",
    "    #print(repr(seq_record.seq))\n",
    "    #print(len(seq_record))"
   ]
  },
  {
   "cell_type": "code",
   "execution_count": 71,
   "metadata": {},
   "outputs": [
    {
     "name": "stdout",
     "output_type": "stream",
     "text": [
      "0 A\n",
      "1 G\n",
      "2 T\n",
      "3 A\n",
      "4 C\n",
      "5 A\n",
      "6 C\n",
      "7 T\n",
      "8 G\n",
      "9 G\n",
      "10 T\n"
     ]
    }
   ],
   "source": [
    "#print index and corresponding letter of my_seq\n",
    "for index, letter in enumerate(my_seq):\n",
    "     print(\"%i %s\" % (index,letter))"
   ]
  },
  {
   "cell_type": "markdown",
   "metadata": {},
   "source": [
    "### Transcription"
   ]
  },
  {
   "cell_type": "markdown",
   "metadata": {},
   "source": [
    "> Biological transcription process works from the template strand, doing a reverse complement (TCAG ==> CUGA) to create the mRNA\n",
    "\n",
    "> In biopython/bioinformatics in general,  we typically work directly with thte coding strand beacuse thhe mRNA sequence can be obtained by just switching T ==> U"
   ]
  },
  {
   "cell_type": "code",
   "execution_count": 3,
   "metadata": {},
   "outputs": [],
   "source": [
    "from Bio.Seq import Seq\n",
    "from Bio.Alphabet import IUPAC\n",
    "coding_dna = Seq(\"ATGGCCATTGTAATGGGCCGCTGAAAGGGTGCCCGATAG\", IUPAC.unambiguous_dna)"
   ]
  },
  {
   "cell_type": "markdown",
   "metadata": {},
   "source": [
    "Creating Seq objects for the coding and template DNA strands"
   ]
  },
  {
   "cell_type": "code",
   "execution_count": 4,
   "metadata": {},
   "outputs": [
    {
     "data": {
      "text/plain": [
       "Seq('ATGGCCATTGTAATGGGCCGCTGAAAGGGTGCCCGATAG', IUPACUnambiguousDNA())"
      ]
     },
     "execution_count": 4,
     "metadata": {},
     "output_type": "execute_result"
    }
   ],
   "source": [
    "coding_dna"
   ]
  },
  {
   "cell_type": "code",
   "execution_count": 5,
   "metadata": {},
   "outputs": [],
   "source": [
    "template_dna = coding_dna.reverse_complement()"
   ]
  },
  {
   "cell_type": "code",
   "execution_count": 6,
   "metadata": {},
   "outputs": [
    {
     "data": {
      "text/plain": [
       "Seq('CTATCGGGCACCCTTTCAGCGGCCCATTACAATGGCCAT', IUPACUnambiguousDNA())"
      ]
     },
     "execution_count": 6,
     "metadata": {},
     "output_type": "execute_result"
    }
   ],
   "source": [
    "template_dna"
   ]
  },
  {
   "cell_type": "markdown",
   "metadata": {},
   "source": [
    "Nucleotide sequences are normally read from the 5' to 3' direction"
   ]
  },
  {
   "cell_type": "code",
   "execution_count": 7,
   "metadata": {},
   "outputs": [],
   "source": [
    "#transcribe coding strand into corresponding mRNA\n",
    "messenger_rna = coding_dna.transcribe()"
   ]
  },
  {
   "cell_type": "code",
   "execution_count": 8,
   "metadata": {},
   "outputs": [
    {
     "data": {
      "text/plain": [
       "Seq('AUGGCCAUUGUAAUGGGCCGCUGAAAGGGUGCCCGAUAG', IUPACUnambiguousRNA())"
      ]
     },
     "execution_count": 8,
     "metadata": {},
     "output_type": "execute_result"
    }
   ],
   "source": [
    "messenger_rna"
   ]
  },
  {
   "cell_type": "markdown",
   "metadata": {},
   "source": [
    ">All this does is switch T ==> U, and adjust the alphabet\n",
    "\n",
    ">In order to do a true biological transcription it is a 2 step process:"
   ]
  },
  {
   "cell_type": "code",
   "execution_count": 9,
   "metadata": {},
   "outputs": [
    {
     "data": {
      "text/plain": [
       "Seq('AUGGCCAUUGUAAUGGGCCGCUGAAAGGGUGCCCGAUAG', IUPACUnambiguousRNA())"
      ]
     },
     "execution_count": 9,
     "metadata": {},
     "output_type": "execute_result"
    }
   ],
   "source": [
    "template_dna.reverse_complement().transcribe()"
   ]
  },
  {
   "cell_type": "markdown",
   "metadata": {},
   "source": [
    "### Seq object has back-transcription method for goign from the mRNA to the coding strand of the DNA: ivolves simple U ==> T substitution and associated change of alphabet:"
   ]
  },
  {
   "cell_type": "code",
   "execution_count": 10,
   "metadata": {},
   "outputs": [],
   "source": [
    "from Bio.Seq import Seq\n",
    "from Bio.Alphabet import IUPAC\n",
    "messenger_rna = Seq(\"AUGGCCAUUGUAAUGGGCCGCUGAAAGGGUGCCCGAUAG\", IUPAC.unambiguous_rna)"
   ]
  },
  {
   "cell_type": "code",
   "execution_count": 11,
   "metadata": {},
   "outputs": [
    {
     "data": {
      "text/plain": [
       "Seq('AUGGCCAUUGUAAUGGGCCGCUGAAAGGGUGCCCGAUAG', IUPACUnambiguousRNA())"
      ]
     },
     "execution_count": 11,
     "metadata": {},
     "output_type": "execute_result"
    }
   ],
   "source": [
    "messenger_rna"
   ]
  },
  {
   "cell_type": "code",
   "execution_count": 12,
   "metadata": {},
   "outputs": [
    {
     "data": {
      "text/plain": [
       "Seq('ATGGCCATTGTAATGGGCCGCTGAAAGGGTGCCCGATAG', IUPACUnambiguousDNA())"
      ]
     },
     "execution_count": 12,
     "metadata": {},
     "output_type": "execute_result"
    }
   ],
   "source": [
    "messenger_rna.back_transcribe()"
   ]
  },
  {
   "cell_type": "markdown",
   "metadata": {},
   "source": [
    "### Translation"
   ]
  },
  {
   "cell_type": "markdown",
   "metadata": {},
   "source": [
    "> Translate mRNA into protein sequence "
   ]
  },
  {
   "cell_type": "code",
   "execution_count": 13,
   "metadata": {},
   "outputs": [],
   "source": [
    "messenger_rna = Seq(\"AUGGCCAUUGUAAUGGGCCGCUGAAAGGGUGCCCGAUAG\", IUPAC.unambiguous_rna)"
   ]
  },
  {
   "cell_type": "code",
   "execution_count": 14,
   "metadata": {},
   "outputs": [
    {
     "data": {
      "text/plain": [
       "Seq('AUGGCCAUUGUAAUGGGCCGCUGAAAGGGUGCCCGAUAG', IUPACUnambiguousRNA())"
      ]
     },
     "execution_count": 14,
     "metadata": {},
     "output_type": "execute_result"
    }
   ],
   "source": [
    "messenger_rna"
   ]
  },
  {
   "cell_type": "code",
   "execution_count": 15,
   "metadata": {},
   "outputs": [
    {
     "data": {
      "text/plain": [
       "Seq('MAIVMGR*KGAR*', HasStopCodon(IUPACProtein(), '*'))"
      ]
     },
     "execution_count": 15,
     "metadata": {},
     "output_type": "execute_result"
    }
   ],
   "source": [
    "messenger_rna.translate()"
   ]
  },
  {
   "cell_type": "markdown",
   "metadata": {},
   "source": [
    "DNA sequence can also be directly translated intoprotien sequence"
   ]
  },
  {
   "cell_type": "code",
   "execution_count": 16,
   "metadata": {},
   "outputs": [],
   "source": [
    "coding_dna = Seq(\"ATGGCCATTGTAATGGGCCGCTGAAAGGGTGCCCGATAG\", IUPAC.unambiguous_dna)"
   ]
  },
  {
   "cell_type": "code",
   "execution_count": 17,
   "metadata": {},
   "outputs": [
    {
     "data": {
      "text/plain": [
       "Seq('MAIVMGR*KGAR*', HasStopCodon(IUPACProtein(), '*'))"
      ]
     },
     "execution_count": 17,
     "metadata": {},
     "output_type": "execute_result"
    }
   ],
   "source": [
    "coding_dna.translate()"
   ]
  },
  {
   "cell_type": "code",
   "execution_count": 18,
   "metadata": {},
   "outputs": [
    {
     "data": {
      "text/plain": [
       "Seq('MAIVMGRWKGAR*', HasStopCodon(IUPACProtein(), '*'))"
      ]
     },
     "execution_count": 18,
     "metadata": {},
     "output_type": "execute_result"
    }
   ],
   "source": [
    "coding_dna.translate(table=\"Vertebrate Mitochondrial\")"
   ]
  },
  {
   "cell_type": "markdown",
   "metadata": {},
   "source": [
    "Can specify the table number from NCBI table"
   ]
  },
  {
   "cell_type": "code",
   "execution_count": 21,
   "metadata": {},
   "outputs": [
    {
     "data": {
      "text/plain": [
       "Seq('MAIVMGRWKGAR@', HasStopCodon(IUPACProtein(), '@'))"
      ]
     },
     "execution_count": 21,
     "metadata": {},
     "output_type": "execute_result"
    }
   ],
   "source": [
    "#can specify stop_symbol\n",
    "coding_dna.translate(table=2, stop_symbol=\"@\")"
   ]
  },
  {
   "cell_type": "markdown",
   "metadata": {},
   "source": [
    "> Complete coding sequence CDS, which is a nucleotide sequence e.g. mRNA- after splicing \n",
    "\n",
    "> CDS has no internal stop frames \n",
    "\n",
    "> What to do if your sequence uses a non-standard start codon? (Common in bacterial genes)"
   ]
  },
  {
   "cell_type": "code",
   "execution_count": 24,
   "metadata": {},
   "outputs": [],
   "source": [
    "from Bio.Alphabet import generic_dna\n",
    "gene = Seq(\"GTGAAAAAGATGCAATCTATCGTACTCGCACTTTCCCTGGTTCTGGTCGCTCCCATGGCA\" + \\\n",
    "            \"GCACAGGCTGCGGAAATTACGTTAGTCCCGTCAGTAAAATTACAGATAGGCGATCGTGAT\" + \\\n",
    "            \"AATCGTGGCTATTACTGGGATGGAGGTCACTGGCGCGACCACGGCTGGTGGAAACAACAT\" + \\\n",
    "            \"TATGAATGGCGAGGCAATCGCTGGCACCTACACGGACCGCCGCCACCGCCGCGCCACCAT\" + \\\n",
    "            \"AAGAAAGCTCCTCATGATCATCACGGCGGTCATGGTCCAGGCAAACATCACCGCTAA\",\n",
    "            generic_dna)"
   ]
  },
  {
   "cell_type": "code",
   "execution_count": 25,
   "metadata": {},
   "outputs": [
    {
     "data": {
      "text/plain": [
       "Seq('VKKMQSIVLALSLVLVAPMAAQAAEITLVPSVKLQIGDRDNRGYYWDGGHWRDH...HR*', HasStopCodon(ExtendedIUPACProtein(), '*'))"
      ]
     },
     "execution_count": 25,
     "metadata": {},
     "output_type": "execute_result"
    }
   ],
   "source": [
    "gene.translate(table=\"Bacterial\")"
   ]
  },
  {
   "cell_type": "code",
   "execution_count": 26,
   "metadata": {},
   "outputs": [
    {
     "data": {
      "text/plain": [
       "Seq('VKKMQSIVLALSLVLVAPMAAQAAEITLVPSVKLQIGDRDNRGYYWDGGHWRDH...HHR', ExtendedIUPACProtein())"
      ]
     },
     "execution_count": 26,
     "metadata": {},
     "output_type": "execute_result"
    }
   ],
   "source": [
    "gene.translate(table=\"Bacterial\", to_stop=True)"
   ]
  },
  {
   "cell_type": "markdown",
   "metadata": {},
   "source": [
    "> GTG (codes for Valine) is a valid start codon in bacterial genetic code\n",
    "\n",
    "> However if used as a start codon it should be translated as methionine\n",
    "\n",
    "> Have to specify in biopython that it is a complete CDS e.g. cds=True\n"
   ]
  },
  {
   "cell_type": "code",
   "execution_count": 27,
   "metadata": {},
   "outputs": [
    {
     "data": {
      "text/plain": [
       "Seq('MKKMQSIVLALSLVLVAPMAAQAAEITLVPSVKLQIGDRDNRGYYWDGGHWRDH...HHR', ExtendedIUPACProtein())"
      ]
     },
     "execution_count": 27,
     "metadata": {},
     "output_type": "execute_result"
    }
   ],
   "source": [
    "gene.translate(table=\"Bacterial\", cds=True)"
   ]
  },
  {
   "cell_type": "markdown",
   "metadata": {},
   "source": [
    "### Translation tables"
   ]
  },
  {
   "cell_type": "markdown",
   "metadata": {},
   "source": [
    "> Internally the Seq object translation method uses codon table objects derived from NCBI info:\n",
    "\n",
    "> Standard translation table (ID label - 1)\n",
    "\n",
    "> Translation table for Vertebrate Mitochondrial DNA (ID label - 2)"
   ]
  },
  {
   "cell_type": "code",
   "execution_count": 29,
   "metadata": {},
   "outputs": [],
   "source": [
    "from Bio.Data import CodonTable"
   ]
  },
  {
   "cell_type": "code",
   "execution_count": 30,
   "metadata": {},
   "outputs": [],
   "source": [
    "standard_table = CodonTable.unambiguous_dna_by_name[\"Standard\"]"
   ]
  },
  {
   "cell_type": "code",
   "execution_count": 32,
   "metadata": {},
   "outputs": [],
   "source": [
    "mito_table = CodonTable.unambiguous_dna_by_name['Vertebrate Mitochondrial']"
   ]
  },
  {
   "cell_type": "code",
   "execution_count": 34,
   "metadata": {},
   "outputs": [
    {
     "name": "stdout",
     "output_type": "stream",
     "text": [
      "Table 1 Standard, SGC0\n",
      "\n",
      "  |  T      |  C      |  A      |  G      |\n",
      "--+---------+---------+---------+---------+--\n",
      "T | TTT F   | TCT S   | TAT Y   | TGT C   | T\n",
      "T | TTC F   | TCC S   | TAC Y   | TGC C   | C\n",
      "T | TTA L   | TCA S   | TAA Stop| TGA Stop| A\n",
      "T | TTG L(s)| TCG S   | TAG Stop| TGG W   | G\n",
      "--+---------+---------+---------+---------+--\n",
      "C | CTT L   | CCT P   | CAT H   | CGT R   | T\n",
      "C | CTC L   | CCC P   | CAC H   | CGC R   | C\n",
      "C | CTA L   | CCA P   | CAA Q   | CGA R   | A\n",
      "C | CTG L(s)| CCG P   | CAG Q   | CGG R   | G\n",
      "--+---------+---------+---------+---------+--\n",
      "A | ATT I   | ACT T   | AAT N   | AGT S   | T\n",
      "A | ATC I   | ACC T   | AAC N   | AGC S   | C\n",
      "A | ATA I   | ACA T   | AAA K   | AGA R   | A\n",
      "A | ATG M(s)| ACG T   | AAG K   | AGG R   | G\n",
      "--+---------+---------+---------+---------+--\n",
      "G | GTT V   | GCT A   | GAT D   | GGT G   | T\n",
      "G | GTC V   | GCC A   | GAC D   | GGC G   | C\n",
      "G | GTA V   | GCA A   | GAA E   | GGA G   | A\n",
      "G | GTG V   | GCG A   | GAG E   | GGG G   | G\n",
      "--+---------+---------+---------+---------+--\n"
     ]
    }
   ],
   "source": [
    "print(standard_table)"
   ]
  },
  {
   "cell_type": "code",
   "execution_count": 35,
   "metadata": {
    "scrolled": true
   },
   "outputs": [
    {
     "name": "stdout",
     "output_type": "stream",
     "text": [
      "Table 2 Vertebrate Mitochondrial, SGC1\n",
      "\n",
      "  |  T      |  C      |  A      |  G      |\n",
      "--+---------+---------+---------+---------+--\n",
      "T | TTT F   | TCT S   | TAT Y   | TGT C   | T\n",
      "T | TTC F   | TCC S   | TAC Y   | TGC C   | C\n",
      "T | TTA L   | TCA S   | TAA Stop| TGA W   | A\n",
      "T | TTG L   | TCG S   | TAG Stop| TGG W   | G\n",
      "--+---------+---------+---------+---------+--\n",
      "C | CTT L   | CCT P   | CAT H   | CGT R   | T\n",
      "C | CTC L   | CCC P   | CAC H   | CGC R   | C\n",
      "C | CTA L   | CCA P   | CAA Q   | CGA R   | A\n",
      "C | CTG L   | CCG P   | CAG Q   | CGG R   | G\n",
      "--+---------+---------+---------+---------+--\n",
      "A | ATT I(s)| ACT T   | AAT N   | AGT S   | T\n",
      "A | ATC I(s)| ACC T   | AAC N   | AGC S   | C\n",
      "A | ATA M(s)| ACA T   | AAA K   | AGA Stop| A\n",
      "A | ATG M(s)| ACG T   | AAG K   | AGG Stop| G\n",
      "--+---------+---------+---------+---------+--\n",
      "G | GTT V   | GCT A   | GAT D   | GGT G   | T\n",
      "G | GTC V   | GCC A   | GAC D   | GGC G   | C\n",
      "G | GTA V   | GCA A   | GAA E   | GGA G   | A\n",
      "G | GTG V(s)| GCG A   | GAG E   | GGG G   | G\n",
      "--+---------+---------+---------+---------+--\n"
     ]
    }
   ],
   "source": [
    "print(mito_table)"
   ]
  },
  {
   "cell_type": "code",
   "execution_count": 36,
   "metadata": {},
   "outputs": [
    {
     "data": {
      "text/plain": [
       "['TAA', 'TAG', 'AGA', 'AGG']"
      ]
     },
     "execution_count": 36,
     "metadata": {},
     "output_type": "execute_result"
    }
   ],
   "source": [
    "mito_table.stop_codons"
   ]
  },
  {
   "cell_type": "code",
   "execution_count": 37,
   "metadata": {},
   "outputs": [
    {
     "data": {
      "text/plain": [
       "['ATT', 'ATC', 'ATA', 'ATG', 'GTG']"
      ]
     },
     "execution_count": 37,
     "metadata": {},
     "output_type": "execute_result"
    }
   ],
   "source": [
    "mito_table.start_codons"
   ]
  },
  {
   "cell_type": "markdown",
   "metadata": {},
   "source": [
    "Forward_tables are used for translation of ambiguous nucleotide sequences. \n",
    "\n",
    "(useful if trying to do your own gene finding)"
   ]
  },
  {
   "cell_type": "code",
   "execution_count": 39,
   "metadata": {
    "scrolled": true
   },
   "outputs": [
    {
     "data": {
      "text/plain": [
       "'T'"
      ]
     },
     "execution_count": 39,
     "metadata": {},
     "output_type": "execute_result"
    }
   ],
   "source": [
    "mito_table.forward_table['ACG']"
   ]
  },
  {
   "cell_type": "markdown",
   "metadata": {},
   "source": [
    "### Comparing sequence objects"
   ]
  },
  {
   "cell_type": "markdown",
   "metadata": {},
   "source": [
    "> Sequence comparison is a very complicated topic and there is no way to decie if 2 sequences are equal. \n",
    "\n",
    "> Basic problem is the meaning of the letters in a sequecne are context dependent- the letter \"A\" could be part of a DNA, RNA or protein sequence\n",
    "\n",
    "> Comparing 2 Seq objects could mean considering both the sequence strings and the alphabets\n",
    "\n"
   ]
  },
  {
   "cell_type": "markdown",
   "metadata": {},
   "source": [
    "What is an alphabet in biopython?\n",
    "Alphabets used in Seq objects etc to declare sequence type and letters.\n",
    "\n",
    "This is used by sequences which contain a finite number of similar words."
   ]
  },
  {
   "cell_type": "markdown",
   "metadata": {},
   "source": [
    "In everyday use, your sequences will probably all have the same alphabet, or at least all be the same type of sequence (all DNA, all RNA, or all protein). \n",
    "|\n",
    "To just compare the sequences as strings- can be done explicitly"
   ]
  },
  {
   "cell_type": "code",
   "execution_count": 40,
   "metadata": {},
   "outputs": [
    {
     "data": {
      "text/plain": [
       "True"
      ]
     },
     "execution_count": 40,
     "metadata": {},
     "output_type": "execute_result"
    }
   ],
   "source": [
    "seq1 = Seq(\"ACGT\", IUPAC.unambiguous_dna)\n",
    "seq2 = Seq(\"ACGT\", IUPAC.ambiguous_dna)\n",
    "str(seq1) == str(seq2)"
   ]
  },
  {
   "cell_type": "code",
   "execution_count": 44,
   "metadata": {},
   "outputs": [],
   "source": [
    "from Bio.Alphabet import generic_dna, generic_protein"
   ]
  },
  {
   "cell_type": "code",
   "execution_count": 45,
   "metadata": {},
   "outputs": [],
   "source": [
    "dna_seq = Seq(\"ACGT\", generic_dna)\n",
    "prot_seq = Seq(\"ACGT\", generic_protein)"
   ]
  },
  {
   "cell_type": "code",
   "execution_count": 46,
   "metadata": {},
   "outputs": [
    {
     "name": "stderr",
     "output_type": "stream",
     "text": [
      "/anaconda3/lib/python3.6/site-packages/Bio/Seq.py:198: BiopythonWarning: Incompatible alphabets DNAAlphabet() and ProteinAlphabet()\n",
      "  BiopythonWarning)\n"
     ]
    },
    {
     "data": {
      "text/plain": [
       "True"
      ]
     },
     "execution_count": 46,
     "metadata": {},
     "output_type": "execute_result"
    }
   ],
   "source": [
    "dna_seq == prot_seq"
   ]
  },
  {
   "cell_type": "markdown",
   "metadata": {},
   "source": [
    "### Sequence objects are immutable"
   ]
  },
  {
   "cell_type": "code",
   "execution_count": 47,
   "metadata": {},
   "outputs": [
    {
     "ename": "TypeError",
     "evalue": "'Seq' object does not support item assignment",
     "output_type": "error",
     "traceback": [
      "\u001b[0;31m---------------------------------------------------------------------------\u001b[0m",
      "\u001b[0;31mTypeError\u001b[0m                                 Traceback (most recent call last)",
      "\u001b[0;32m<ipython-input-47-50e848a55f5c>\u001b[0m in \u001b[0;36m<module>\u001b[0;34m()\u001b[0m\n\u001b[0;32m----> 1\u001b[0;31m \u001b[0mmy_seq\u001b[0m\u001b[0;34m[\u001b[0m\u001b[0;36m5\u001b[0m\u001b[0;34m]\u001b[0m \u001b[0;34m=\u001b[0m \u001b[0;34m\"G\"\u001b[0m\u001b[0;34m\u001b[0m\u001b[0m\n\u001b[0m",
      "\u001b[0;31mTypeError\u001b[0m: 'Seq' object does not support item assignment"
     ]
    }
   ],
   "source": [
    "my_seq[5] = \"G\""
   ]
  },
  {
   "cell_type": "code",
   "execution_count": 48,
   "metadata": {},
   "outputs": [
    {
     "data": {
      "text/plain": [
       "MutableSeq('AGTACACTGGT', IUPACUnambiguousDNA())"
      ]
     },
     "execution_count": 48,
     "metadata": {},
     "output_type": "execute_result"
    }
   ],
   "source": [
    "# Can be converted into a mutable sequence\n",
    "mutable_seq = my_seq.tomutable()\n",
    "mutable_seq"
   ]
  },
  {
   "cell_type": "code",
   "execution_count": 51,
   "metadata": {},
   "outputs": [],
   "source": [
    "mutable_seq.reverse()"
   ]
  },
  {
   "cell_type": "code",
   "execution_count": 52,
   "metadata": {},
   "outputs": [
    {
     "data": {
      "text/plain": [
       "MutableSeq('TGGTCACATGA', IUPACUnambiguousDNA())"
      ]
     },
     "execution_count": 52,
     "metadata": {},
     "output_type": "execute_result"
    }
   ],
   "source": [
    "mutable_seq"
   ]
  },
  {
   "cell_type": "code",
   "execution_count": 53,
   "metadata": {},
   "outputs": [],
   "source": [
    "mutable_seq.reverse_complement()"
   ]
  },
  {
   "cell_type": "code",
   "execution_count": 54,
   "metadata": {},
   "outputs": [
    {
     "data": {
      "text/plain": [
       "MutableSeq('TCATGTGACCA', IUPACUnambiguousDNA())"
      ]
     },
     "execution_count": 54,
     "metadata": {},
     "output_type": "execute_result"
    }
   ],
   "source": [
    "mutable_seq"
   ]
  },
  {
   "cell_type": "markdown",
   "metadata": {},
   "source": [
    "Seq object once converted to mutable can be accessed by indexing/slicing/remove at index etc\n",
    "\n",
    "To convert back to immutable object:"
   ]
  },
  {
   "cell_type": "code",
   "execution_count": 55,
   "metadata": {},
   "outputs": [],
   "source": [
    "new_seq = mutable_seq.toseq()"
   ]
  },
  {
   "cell_type": "code",
   "execution_count": 56,
   "metadata": {},
   "outputs": [
    {
     "data": {
      "text/plain": [
       "Seq('TCATGTGACCA', IUPACUnambiguousDNA())"
      ]
     },
     "execution_count": 56,
     "metadata": {},
     "output_type": "execute_result"
    }
   ],
   "source": [
    "new_seq"
   ]
  },
  {
   "cell_type": "markdown",
   "metadata": {},
   "source": [
    "### UnknownSeq objects"
   ]
  },
  {
   "cell_type": "code",
   "execution_count": 57,
   "metadata": {},
   "outputs": [],
   "source": [
    "from Bio.Seq import UnknownSeq"
   ]
  },
  {
   "cell_type": "code",
   "execution_count": 58,
   "metadata": {},
   "outputs": [],
   "source": [
    "unk = UnknownSeq(20)"
   ]
  },
  {
   "cell_type": "code",
   "execution_count": 59,
   "metadata": {},
   "outputs": [
    {
     "data": {
      "text/plain": [
       "UnknownSeq(20, alphabet = Alphabet(), character = '?')"
      ]
     },
     "execution_count": 59,
     "metadata": {},
     "output_type": "execute_result"
    }
   ],
   "source": [
    "unk"
   ]
  },
  {
   "cell_type": "code",
   "execution_count": 60,
   "metadata": {},
   "outputs": [
    {
     "name": "stdout",
     "output_type": "stream",
     "text": [
      "????????????????????\n"
     ]
    }
   ],
   "source": [
    "print(unk)"
   ]
  },
  {
   "cell_type": "code",
   "execution_count": 61,
   "metadata": {},
   "outputs": [
    {
     "data": {
      "text/plain": [
       "20"
      ]
     },
     "execution_count": 61,
     "metadata": {},
     "output_type": "execute_result"
    }
   ],
   "source": [
    "len(unk)"
   ]
  },
  {
   "cell_type": "markdown",
   "metadata": {},
   "source": [
    "Alternatively, you can specify an alphabet e.g. for unknown nucleotide sequences the letter defaults to \"N\" and for proteins \"X\", as opposed to \"?\""
   ]
  },
  {
   "cell_type": "markdown",
   "metadata": {},
   "source": [
    "> Protein = X\n",
    "\n",
    "> Nucleotide = N"
   ]
  },
  {
   "cell_type": "code",
   "execution_count": 62,
   "metadata": {},
   "outputs": [],
   "source": [
    "unk_dna = UnknownSeq(20, alphabet=IUPAC.ambiguous_dna)"
   ]
  },
  {
   "cell_type": "code",
   "execution_count": 63,
   "metadata": {},
   "outputs": [
    {
     "data": {
      "text/plain": [
       "UnknownSeq(20, alphabet = IUPACAmbiguousDNA(), character = 'N')"
      ]
     },
     "execution_count": 63,
     "metadata": {},
     "output_type": "execute_result"
    }
   ],
   "source": [
    "unk_dna"
   ]
  },
  {
   "cell_type": "code",
   "execution_count": 64,
   "metadata": {},
   "outputs": [
    {
     "name": "stdout",
     "output_type": "stream",
     "text": [
      "NNNNNNNNNNNNNNNNNNNN\n"
     ]
    }
   ],
   "source": [
    "print(unk_dna)"
   ]
  },
  {
   "cell_type": "code",
   "execution_count": 65,
   "metadata": {},
   "outputs": [],
   "source": [
    "unk_protein = unk_dna.translate()"
   ]
  },
  {
   "cell_type": "code",
   "execution_count": 66,
   "metadata": {},
   "outputs": [
    {
     "data": {
      "text/plain": [
       "UnknownSeq(6, alphabet = ProteinAlphabet(), character = 'X')"
      ]
     },
     "execution_count": 66,
     "metadata": {},
     "output_type": "execute_result"
    }
   ],
   "source": [
    "unk_protein"
   ]
  },
  {
   "cell_type": "code",
   "execution_count": 67,
   "metadata": {},
   "outputs": [
    {
     "name": "stdout",
     "output_type": "stream",
     "text": [
      "XXXXXX\n"
     ]
    }
   ],
   "source": [
    "print(unk_protein)"
   ]
  }
 ],
 "metadata": {
  "kernelspec": {
   "display_name": "Python 3",
   "language": "python",
   "name": "python3"
  },
  "language_info": {
   "codemirror_mode": {
    "name": "ipython",
    "version": 3
   },
   "file_extension": ".py",
   "mimetype": "text/x-python",
   "name": "python",
   "nbconvert_exporter": "python",
   "pygments_lexer": "ipython3",
   "version": "3.6.4"
  }
 },
 "nbformat": 4,
 "nbformat_minor": 2
}
