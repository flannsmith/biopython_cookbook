{
 "cells": [
  {
   "cell_type": "code",
   "execution_count": 7,
   "metadata": {
    "collapsed": true
   },
   "outputs": [
    {
     "name": "stdout",
     "output_type": "stream",
     "text": [
      "Collecting biopython\n",
      "\u001b[?25l  Downloading https://files.pythonhosted.org/packages/36/3f/7947c2cd687e79f2904d2b8b0f8805cc344538f3849d7e187fc15db29b6e/biopython-1.74-cp37-cp37m-macosx_10_6_intel.macosx_10_9_intel.macosx_10_9_x86_64.macosx_10_10_intel.macosx_10_10_x86_64.whl (2.3MB)\n",
      "\u001b[K    100% |████████████████████████████████| 2.3MB 151kB/s ta 0:00:01\n",
      "\u001b[?25hRequirement already satisfied, skipping upgrade: numpy in /Users/linda/anaconda3/lib/python3.7/site-packages (from biopython) (1.15.4)\n",
      "Installing collected packages: biopython\n",
      "Successfully installed biopython-1.74\n"
     ]
    }
   ],
   "source": [
    "!pip install biopython --upgrade"
   ]
  },
  {
   "cell_type": "markdown",
   "metadata": {},
   "source": [
    "Dealing with BLAST can be split up into two steps, both of which can be done from within Biopython.\n",
    "\n",
    "Firstly, running BLAST for your query sequence(s), and getting some output. \n",
    "\n",
    "Secondly, parsing the BLASToutput in python for further analysis. "
   ]
  },
  {
   "cell_type": "code",
   "execution_count": 8,
   "metadata": {
    "collapsed": true
   },
   "outputs": [
    {
     "name": "stdout",
     "output_type": "stream",
     "text": [
      "Help on function qblast in module Bio.Blast.NCBIWWW:\n",
      "\n",
      "qblast(program, database, sequence, url_base='https://blast.ncbi.nlm.nih.gov/Blast.cgi', auto_format=None, composition_based_statistics=None, db_genetic_code=None, endpoints=None, entrez_query='(none)', expect=10.0, filter=None, gapcosts=None, genetic_code=None, hitlist_size=50, i_thresh=None, layout=None, lcase_mask=None, matrix_name=None, nucl_penalty=None, nucl_reward=None, other_advanced=None, perc_ident=None, phi_pattern=None, query_file=None, query_believe_defline=None, query_from=None, query_to=None, searchsp_eff=None, service=None, threshold=None, ungapped_alignment=None, word_size=None, short_query=None, alignments=500, alignment_view=None, descriptions=500, entrez_links_new_window=None, expect_low=None, expect_high=None, format_entrez_query=None, format_object=None, format_type='XML', ncbi_gi=None, results_file=None, show_overview=None, megablast=None, template_type=None, template_length=None)\n",
      "    BLAST search using NCBI's QBLAST server or a cloud service provider.\n",
      "    \n",
      "    Supports all parameters of the old qblast API for Put and Get.\n",
      "    \n",
      "    Please note that NCBI uses the new Common URL API for BLAST searches\n",
      "    on the internet (http://ncbi.github.io/blast-cloud/dev/api.html). Thus,\n",
      "    some of the parameters used by this function are not (or are no longer)\n",
      "    officially supported by NCBI. Although they are still functioning, this\n",
      "    may change in the future.\n",
      "    \n",
      "    The Common URL API (http://ncbi.github.io/blast-cloud/dev/api.html) allows\n",
      "    doing BLAST searches on cloud servers. To use this feature, please set\n",
      "    ``url_base='http://host.my.cloud.service.provider.com/cgi-bin/blast.cgi'``\n",
      "    and ``format_object='Alignment'``. For more details, please see\n",
      "    https://blast.ncbi.nlm.nih.gov/Blast.cgi?PAGE_TYPE=BlastDocs&DOC_TYPE=CloudBlast\n",
      "    \n",
      "    Some useful parameters:\n",
      "    \n",
      "     - program        blastn, blastp, blastx, tblastn, or tblastx (lower case)\n",
      "     - database       Which database to search against (e.g. \"nr\").\n",
      "     - sequence       The sequence to search.\n",
      "     - ncbi_gi        TRUE/FALSE whether to give 'gi' identifier.\n",
      "     - descriptions   Number of descriptions to show.  Def 500.\n",
      "     - alignments     Number of alignments to show.  Def 500.\n",
      "     - expect         An expect value cutoff.  Def 10.0.\n",
      "     - matrix_name    Specify an alt. matrix (PAM30, PAM70, BLOSUM80, BLOSUM45).\n",
      "     - filter         \"none\" turns off filtering.  Default no filtering\n",
      "     - format_type    \"HTML\", \"Text\", \"ASN.1\", or \"XML\".  Def. \"XML\".\n",
      "     - entrez_query   Entrez query to limit Blast search\n",
      "     - hitlist_size   Number of hits to return. Default 50\n",
      "     - megablast      TRUE/FALSE whether to use MEga BLAST algorithm (blastn only)\n",
      "     - short_query    TRUE/FALSE whether to adjust the search parameters for a\n",
      "                      short query sequence. Note that this will override\n",
      "                      manually set parameters like word size and e value. Turns\n",
      "                      off when sequence length is > 30 residues. Default: None.\n",
      "     - service        plain, psi, phi, rpsblast, megablast (lower case)\n",
      "    \n",
      "    This function does no checking of the validity of the parameters\n",
      "    and passes the values to the server as is.  More help is available at:\n",
      "    https://ncbi.github.io/blast-cloud/dev/api.html\n",
      "\n"
     ]
    },
    {
     "ename": "TypeError",
     "evalue": "'NoneType' object is not subscriptable",
     "output_type": "error",
     "traceback": [
      "\u001b[0;31m---------------------------------------------------------------------------\u001b[0m",
      "\u001b[0;31mTypeError\u001b[0m                                 Traceback (most recent call last)",
      "\u001b[0;32m<ipython-input-8-c47f39f3d063>\u001b[0m in \u001b[0;36m<module>\u001b[0;34m\u001b[0m\n\u001b[1;32m      1\u001b[0m \u001b[0;32mfrom\u001b[0m \u001b[0mBio\u001b[0m\u001b[0;34m.\u001b[0m\u001b[0mBlast\u001b[0m \u001b[0;32mimport\u001b[0m \u001b[0mNCBIWWW\u001b[0m\u001b[0;34m\u001b[0m\u001b[0;34m\u001b[0m\u001b[0m\n\u001b[0;32m----> 2\u001b[0;31m \u001b[0mhelp\u001b[0m\u001b[0;34m(\u001b[0m\u001b[0mNCBIWWW\u001b[0m\u001b[0;34m.\u001b[0m\u001b[0mqblast\u001b[0m\u001b[0;34m)\u001b[0m\u001b[0;34m[\u001b[0m\u001b[0;36m0\u001b[0m\u001b[0;34m:\u001b[0m\u001b[0;36m100\u001b[0m\u001b[0;34m]\u001b[0m\u001b[0;34m\u001b[0m\u001b[0;34m\u001b[0m\u001b[0m\n\u001b[0m",
      "\u001b[0;31mTypeError\u001b[0m: 'NoneType' object is not subscriptable"
     ]
    }
   ],
   "source": [
    "from Bio.Blast import NCBIWWW\n",
    "help(NCBIWWW.qblast)"
   ]
  },
  {
   "cell_type": "code",
   "execution_count": 2,
   "metadata": {},
   "outputs": [],
   "source": [
    "#Using a GI number to do an online search\n",
    "result_handle = NCBIWWW.qblast(\"blastn\", \"nr\", \"8332116\")"
   ]
  },
  {
   "cell_type": "code",
   "execution_count": 3,
   "metadata": {},
   "outputs": [
    {
     "name": "stdout",
     "output_type": "stream",
     "text": [
      "<_io.StringIO object at 0x108167828>\n"
     ]
    }
   ],
   "source": [
    "print(result_handle)"
   ]
  },
  {
   "cell_type": "code",
   "execution_count": 4,
   "metadata": {},
   "outputs": [],
   "source": [
    "blast_Results = result_handle.read()"
   ]
  },
  {
   "cell_type": "code",
   "execution_count": 5,
   "metadata": {},
   "outputs": [
    {
     "data": {
      "text/plain": [
       "'-from>11</Hsp_hit-from>\\n      <Hsp_hit-to>600</Hsp_hit-to>\\n      <Hsp_query-frame>1</Hsp_query-frame>\\n      <Hsp_hit-frame>1</Hsp_hit-frame>\\n      <Hsp_identity>448</Hsp_identity>\\n      <Hsp_positive>448</Hsp_positive>\\n      <Hsp_gaps>3</Hsp_gaps>\\n      <Hsp_align-len>590</Hsp_align-len>\\n      <Hsp_qseq>AAAATGGGGAGAGAAATGAAGTACTTGGCCATGAAAACTGATCAATTGGCCGTGGCTAATATGATCGATTCCGATATCAATGAGCTTAAAATGGCAACAATGAGGCTCATCAATGATGCTAGTATGCTCGG---TCATTACGGGTTTGGCACTCATTTCCTCAAATGGCTCGCCTGCCTTGCGGCTATTTACTTGTTGATATTGGATCGAACAAACTGGAGAACCAACATGCTCACGTCACTTTTAGTCCCTTACATATTCCTCAGTCTTCCATCCGGGCCATTTCATCTGTTCAGAGGCGAGGTCGGGAAATGGATTGCCATCATTGCAGTCGTGTTAAGGCTGTTCTTCAACCGGCATTTCCCAGTTTGGCTGGAAATGCCTGGATCGTTGATACTCCTCCTGGTGGTGGCACCAGACTTCTTTACACACAAAGTGAAGGAGAGCTGGATCGGAATTGCAATTATGATAGCGATAGGGTGTCACCTGATGCAAGAACATATCAGAGCCACTGGTGGCTTTTGGAATTCCTTCACACAGAGCCACGGAACTTTTAACACAATTGGGCTTATCCTTCTACTGGCTTACCC</Hsp_qseq>\\n      <Hsp_hseq>AAAATGGGTAGACGAATGGATTATTTGGCGATGAAAACCGAGCAATTAGCCGCGGCCAATTTGATCGATTCCGATATCAACGAGCTGAAGATCGCCGTGATGGCGCTCGTTCATGATACTACTACGCTCGGCGGTCAATCGGGATTTGGAACTCATTTTCTCCAATGGCTCGCCTCATTTTCTGCTATTTACTTGTTAATCCTTGATCGAACACATTGGAGAAGCAACATGCTTACTTCACTTTTAGTACCATACATTTTCCTAAGTCTCCCATCTGGCCCCTTTCACCTTTTAAGAGGTGAGGTTGGGAAATGGATTGCTTTTGTCTCGGTTGTGCTAAGGTTATTCTTCCACCGCAGTTTCCCAGAATGGTTGGAAATGCCAGTATGTTTGATACTATTATTGGTGGTAGCTCCAGAAATGCTTGCAATATCAATGAAAGAGAGTTGGATGGGAGTTGTAGTTGTGTTAATCATAGGATGTTACCTTCTACAAGAGCATATTAGGGCAACTGGTGGTTTAAGGAATTCTTTCACACAAAGACATGGGATTTCCAACACAATTGGGCTTCTTCTCTTGTTGGCTTACCC</Hsp_hseq>\\n      <Hsp_midline>|||||||| |||  |||| | || ||||| |||||||| || ||||| |||| ||| ||| ||||||||||||||||||| ||||| || || ||    |||  |||| |  ||||| ||| || ||||||   ||| |  || ||||| |||||||| ||| ||||||||||||   || | |||||||||||||| ||  | ||||||||| | ||||||| ||||||||| || ||||||||||| || ||||| ||||| ||||| ||||| || || ||||| || || ||||| ||||| ||||||||||||||  |  |  | || ||| ||||| | |||||| ||||   ||||||||  ||| |||||||||| | ||  ||||||||  |  ||||||| || |||||  |  || ||     | |||| ||||| ||||| ||| ||| | || || ||   ||||| ||| ||||  | ||||| ||||| || || |||||||| ||  ||||||| |||||||| || || || | ||  ||||||||||||||| | ||  |  ||||||||||</Hsp_midline>\\n    </Hsp>\\n  </Hit_hsps>\\n</Hit>\\n<Hit>\\n  <Hit_num>3</Hit_num>\\n  <Hit_id>gi|731339628|ref|XM_010682658.1|</Hit_id>\\n  <Hit_def>PREDICTED: Beta vulgaris subsp. vulgaris cold-regulated 413 plasma membrane protein 2 (LOC104895996), mRNA</Hit_def>\\n  <Hit_accession>XM_010682658</Hit_accession>\\n  <Hit_len>847</Hit_len>\\n  <Hit_hsps>\\n    <Hsp>\\n      <Hsp_num>1'"
      ]
     },
     "execution_count": 5,
     "metadata": {},
     "output_type": "execute_result"
    }
   ],
   "source": [
    "blast_Results[5000:7500]"
   ]
  },
  {
   "cell_type": "code",
   "execution_count": 6,
   "metadata": {},
   "outputs": [],
   "source": [
    "save_file = open(\"/Users/linda/Desktop/biopython-cookbook/biopython_tutorials/Files/my_blast.xml\", \"w\")\n",
    "save_file.write(blast_Results)\n",
    "save_file.close()"
   ]
  },
  {
   "cell_type": "markdown",
   "metadata": {},
   "source": [
    "#### Parse the BLAST record"
   ]
  },
  {
   "cell_type": "code",
   "execution_count": 7,
   "metadata": {},
   "outputs": [],
   "source": [
    "blast_records = list(blast_Results)"
   ]
  },
  {
   "cell_type": "code",
   "execution_count": 71,
   "metadata": {
    "collapsed": true
   },
   "outputs": [
    {
     "name": "stdout",
     "output_type": "stream",
     "text": [
      "<class 'Bio.Blast.Record.HSP'>\n",
      "482.0\n",
      "<class 'Bio.Blast.Record.HSP'>\n",
      "468.0\n",
      "<class 'Bio.Blast.Record.HSP'>\n",
      "448.0\n",
      "<class 'Bio.Blast.Record.HSP'>\n",
      "439.0\n",
      "<class 'Bio.Blast.Record.HSP'>\n",
      "430.0\n",
      "<class 'Bio.Blast.Record.HSP'>\n",
      "413.0\n",
      "<class 'Bio.Blast.Record.HSP'>\n",
      "413.0\n",
      "<class 'Bio.Blast.Record.HSP'>\n",
      "413.0\n",
      "<class 'Bio.Blast.Record.HSP'>\n",
      "413.0\n",
      "<class 'Bio.Blast.Record.HSP'>\n",
      "413.0\n",
      "<class 'Bio.Blast.Record.HSP'>\n",
      "413.0\n",
      "<class 'Bio.Blast.Record.HSP'>\n",
      "413.0\n",
      "<class 'Bio.Blast.Record.HSP'>\n",
      "413.0\n",
      "<class 'Bio.Blast.Record.HSP'>\n",
      "413.0\n",
      "<class 'Bio.Blast.Record.HSP'>\n",
      "413.0\n",
      "<class 'Bio.Blast.Record.HSP'>\n",
      "406.0\n",
      "<class 'Bio.Blast.Record.HSP'>\n",
      "401.0\n",
      "<class 'Bio.Blast.Record.HSP'>\n",
      "401.0\n",
      "<class 'Bio.Blast.Record.HSP'>\n",
      "399.0\n",
      "<class 'Bio.Blast.Record.HSP'>\n",
      "399.0\n",
      "<class 'Bio.Blast.Record.HSP'>\n",
      "399.0\n",
      "<class 'Bio.Blast.Record.HSP'>\n",
      "391.0\n",
      "<class 'Bio.Blast.Record.HSP'>\n",
      "388.0\n",
      "<class 'Bio.Blast.Record.HSP'>\n",
      "378.0\n",
      "<class 'Bio.Blast.Record.HSP'>\n",
      "378.0\n",
      "<class 'Bio.Blast.Record.HSP'>\n",
      "378.0\n",
      "<class 'Bio.Blast.Record.HSP'>\n",
      "377.0\n",
      "<class 'Bio.Blast.Record.HSP'>\n",
      "376.0\n",
      "<class 'Bio.Blast.Record.HSP'>\n",
      "376.0\n",
      "<class 'Bio.Blast.Record.HSP'>\n",
      "372.0\n",
      "<class 'Bio.Blast.Record.HSP'>\n",
      "372.0\n",
      "<class 'Bio.Blast.Record.HSP'>\n",
      "372.0\n",
      "<class 'Bio.Blast.Record.HSP'>\n",
      "371.0\n",
      "<class 'Bio.Blast.Record.HSP'>\n",
      "368.0\n",
      "<class 'Bio.Blast.Record.HSP'>\n",
      "363.0\n",
      "<class 'Bio.Blast.Record.HSP'>\n",
      "363.0\n",
      "<class 'Bio.Blast.Record.HSP'>\n",
      "360.0\n",
      "<class 'Bio.Blast.Record.HSP'>\n",
      "357.0\n",
      "<class 'Bio.Blast.Record.HSP'>\n",
      "355.0\n",
      "<class 'Bio.Blast.Record.HSP'>\n",
      "355.0\n",
      "<class 'Bio.Blast.Record.HSP'>\n",
      "354.0\n",
      "<class 'Bio.Blast.Record.HSP'>\n",
      "353.0\n",
      "<class 'Bio.Blast.Record.HSP'>\n",
      "353.0\n",
      "<class 'Bio.Blast.Record.HSP'>\n",
      "352.0\n",
      "<class 'Bio.Blast.Record.HSP'>\n",
      "350.0\n",
      "<class 'Bio.Blast.Record.HSP'>\n",
      "348.0\n",
      "<class 'Bio.Blast.Record.HSP'>\n",
      "348.0\n",
      "<class 'Bio.Blast.Record.HSP'>\n",
      "344.0\n",
      "<class 'Bio.Blast.Record.HSP'>\n",
      "341.0\n",
      "<class 'Bio.Blast.Record.HSP'>\n",
      "339.0\n"
     ]
    }
   ],
   "source": [
    "for i,alignment in enumerate(item.alignments):\n",
    "    hsp = alignment.hsps[0]\n",
    "    print(type(hsp))\n",
    "    print(hsp.score)\n",
    "#   if alignment.hsps[0].expect < E_VALUE_THRESH:\n",
    "#      print(alignment.title)"
   ]
  },
  {
   "cell_type": "code",
   "execution_count": 61,
   "metadata": {},
   "outputs": [
    {
     "data": {
      "text/plain": [
       "list"
      ]
     },
     "execution_count": 61,
     "metadata": {},
     "output_type": "execute_result"
    }
   ],
   "source": [
    "type([1])"
   ]
  },
  {
   "cell_type": "code",
   "execution_count": 1,
   "metadata": {},
   "outputs": [
    {
     "name": "stdout",
     "output_type": "stream",
     "text": [
      "dict_keys(['Entry_0', 'Entry_1', 'Entry_2', 'Entry_3', 'Entry_4', 'Entry_5', 'Entry_6', 'Entry_7', 'Entry_8', 'Entry_9', 'Entry_10', 'Entry_11', 'Entry_12', 'Entry_13', 'Entry_14', 'Entry_15', 'Entry_16', 'Entry_17', 'Entry_18', 'Entry_19', 'Entry_20', 'Entry_21', 'Entry_22', 'Entry_23', 'Entry_24', 'Entry_25', 'Entry_26', 'Entry_27', 'Entry_28', 'Entry_29', 'Entry_30', 'Entry_31', 'Entry_32', 'Entry_33', 'Entry_34', 'Entry_35', 'Entry_36', 'Entry_37', 'Entry_38', 'Entry_39', 'Entry_40', 'Entry_41', 'Entry_42', 'Entry_43', 'Entry_44', 'Entry_45', 'Entry_46', 'Entry_47', 'Entry_48', 'Entry_49'])\n"
     ]
    }
   ],
   "source": [
    "blast_dict = {}\n",
    "E_VALUE_THRESH = 0.04\n",
    "from Bio.Blast import NCBIXML\n",
    "result=open(\"/Users/linda/Desktop/biopython-cookbook/biopython_tutorials/Files/my_blast.xml\",\"r\")\n",
    "records= NCBIXML.parse(result)\n",
    "item=next(records)\n",
    "count=0\n",
    "dict_temp = {}\n",
    "dict_final ={}\n",
    "count = 0\n",
    "for i,alignment in enumerate(item.alignments):\n",
    "    hsp = alignment.hsps[0]\n",
    "    if hsp.expect < E_VALUE_THRESH:\n",
    "        dict_temp = {'Sequence': alignment.title,'Length' : alignment.length, 'Score': hsp.score, 'Query': hsp.query, 'Match': hsp.match, 'Subject': hsp.sbjct}\n",
    "        dict_final[\"Entry_\"+str(count)]= dict_temp\n",
    "        count+=1\n",
    "        \n",
    "print(dict_final.keys())"
   ]
  },
  {
   "cell_type": "code",
   "execution_count": 6,
   "metadata": {},
   "outputs": [
    {
     "data": {
      "text/plain": [
       "{'Sequence': 'gi|1219041180|ref|XM_021875076.1| PREDICTED: Chenopodium quinoa cold-regulated 413 plasma membrane protein 2-like (LOC110697660), mRNA',\n",
       " 'Length': 1173,\n",
       " 'Score': 482.0,\n",
       " 'Query': 'ACAGAAAATGGGGAGAGAAATGAAGTACTTGGCCATGAAAACTGATCAATTGGCCGTGGCTAATATGATCGATTCCGATATCAATGAGCTTAAAATGGCAACAATGAGGCTCATCAATGATGCTAGTATGCTCGGT--CATTACGGG-TTTGGCACTCATTTCCTCAAATGGCTCGCCTGCCTTGCGGCTATTTACTTGTTGATATTGGATCGAACAAACTGGAGAACCAACATGCTCACGTCACTTTTAGTCCCTTACATATTCCTCAGTCTTCCATCCGGGCCATTTCATCTGTTCAGAGGCGAGGTCGGGAAATGGATTGCCATCATTGCAGTCGTGTTAAGGCTGTTCTTCAACCGGCATTTCCCAGTTTGGCTGGAAATGCCTGGATCGTTGATACTCCTCCTGGTGGTGGCACCAGACTTCTTTACACACAAAGTGAAGGAGAGCTGGATCGGAATTGCAATTATGATAGCGATAGGGTGTCACCTGATGCAAGAACATATCAGAGCCACTGGTGGCTTTTGGAATTCCTTCACACAGAGCCACGGAACTTTTAACACAATTGGGCTTATCCTTCTACTGGCTTACCCTGTCT-GTTTATGGTCATCTTCATGATGTA',\n",
       " 'Match': '|| ||||||||| |||| | |||| ||  |||| |||| | |||| ||| | |||| ||| ||| ||||| | ||||| ||||||||||| || || |     ||||  |||||  ||||||||  ||  |||||   ||   | || ||||| |||||||| || | |||||| ||||  ||||| |||||||||||||||||  ||||||| ||||| |||||||||||||||||||| ||||| ||||| || |||||||||||||||||||| || || || ||| | ||  | || || ||||| ||||||||||||||  |  | || || ||| ||||||| |||||| |||| |  |||||||  ||| | || ||||| |||||  |||||||  |  ||||||| || ||||| ||  |  |||||||| | ||||| || ||||| ||| ||| |||| || ||   ||||||||| |  || |||||||||||||||| || |||||||| ||  | ||||| || || || ||||| |||| ||   | || ||||||||  | ||  || ||||||||||  | | ||  ||||| || |||||||| ||',\n",
       " 'Subject': 'ACCGAAAATGGGCAGAGGAGTGAATTATATGGCAATGACACCTGAGCAACTAGCCGCGGCCAATTTGATCAACTCCGACATCAATGAGCTCAAGATCGTTGTGATGACACTCATTCATGATGCTTCTAGACTCGGCGGCACCTCAGGATTTGGAACTCATTTTCTTAGATGGCTAGCCTCTCTTGCTGCTATTTACTTGTTGATCCTGGATCGCACAAATTGGAGAACCAACATGCTCACATCACTCTTAGTACCATACATATTCCTCAGTCTTCCTTCTGGCCCTTTTTACCTTCTTAGGGGTGAGGTTGGGAAATGGATTGCTTTTGTCGCGGTTGTGCTAAGGCTATTCTTCCACCGCCGCTTCCCAGAATGGTTAGAGATGCCAGGATCACTGATACTATTGTTGGTGGTAGCTCCAGAATTGCTAGCACACAAATTAAAGGATAGTTGGATGGGAGTTGTAATTCTGTTAATCATAGGGTGTTATTTGCTGCAAGAACATATCAGGGCAACTGGTGGTTTAAGAAATTCGTTTACTCAAAGCCATGGAATTTCCTATACGATTGGGCTGCTTCTCTTATTGGCTTACCCAATTTGGTCCATGGTTATTTTCATGATTTA'}"
      ]
     },
     "execution_count": 6,
     "metadata": {},
     "output_type": "execute_result"
    }
   ],
   "source": [
    "dict_final['Entry_0']"
   ]
  },
  {
   "cell_type": "code",
   "execution_count": 7,
   "metadata": {},
   "outputs": [
    {
     "name": "stdout",
     "output_type": "stream",
     "text": [
      "gi|1102738967|ref|XM_010256725.2| PREDICTED: Nelumbo nucifera cold-regulated 413 plasma membrane protein 2 (LOC104595819), mRNA\n"
     ]
    }
   ],
   "source": [
    "print(dict_final['Entry_44']['Sequence'])"
   ]
  },
  {
   "cell_type": "code",
   "execution_count": null,
   "metadata": {},
   "outputs": [],
   "source": []
  }
 ],
 "metadata": {
  "kernelspec": {
   "display_name": "Python 3",
   "language": "python",
   "name": "python3"
  },
  "language_info": {
   "codemirror_mode": {
    "name": "ipython",
    "version": 3
   },
   "file_extension": ".py",
   "mimetype": "text/x-python",
   "name": "python",
   "nbconvert_exporter": "python",
   "pygments_lexer": "ipython3",
   "version": "3.7.1"
  }
 },
 "nbformat": 4,
 "nbformat_minor": 2
}
