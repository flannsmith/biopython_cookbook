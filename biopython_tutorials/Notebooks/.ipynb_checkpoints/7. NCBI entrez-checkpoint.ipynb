{
 "cells": [
  {
   "cell_type": "markdown",
   "metadata": {},
   "source": [
    "Entrez (http://www.ncbi.nlm.nih.gov/Entrez) is a data retrieval system that provides users access toNCBI’s databases such as PubMed, GenBank, GEO, and many others"
   ]
  },
  {
   "cell_type": "code",
   "execution_count": 4,
   "metadata": {},
   "outputs": [],
   "source": [
    "from Bio import Entrez\n",
    "Entrez.email = \"A.N.Other@example.com\" # Always tell NCBI who you are\n",
    "handle = Entrez.einfo(db=\"pubmed\")\n",
    "record = Entrez.read(handle)"
   ]
  },
  {
   "cell_type": "code",
   "execution_count": 6,
   "metadata": {},
   "outputs": [],
   "source": [
    "handle = Entrez.esearch(db=\"nucleotide\",term=\"Cypripedioideae[Orgn] AND matK[Gene]\")"
   ]
  },
  {
   "cell_type": "code",
   "execution_count": 8,
   "metadata": {},
   "outputs": [],
   "source": [
    "record = Entrez.read(handle)"
   ]
  },
  {
   "cell_type": "code",
   "execution_count": 9,
   "metadata": {},
   "outputs": [
    {
     "data": {
      "text/plain": [
       "{'Count': '532', 'RetMax': '20', 'RetStart': '0', 'IdList': ['1251949175', '1251949173', '1251949171', '1251949169', '1251949167', '1251949165', '1251949163', '1251949161', '1251949159', '1251949157', '1251949155', '1251949153', '1251949151', '1707416154', '1707416152', '1707416150', '1707416148', '1707416146', '1707416144', '1707416142'], 'TranslationSet': [{'From': 'Cypripedioideae[Orgn]', 'To': '\"Cypripedioideae\"[Organism]'}], 'TranslationStack': [{'Term': '\"Cypripedioideae\"[Organism]', 'Field': 'Organism', 'Count': '5363', 'Explode': 'Y'}, {'Term': 'matK[Gene]', 'Field': 'Gene', 'Count': '173831', 'Explode': 'N'}, 'AND'], 'QueryTranslation': '\"Cypripedioideae\"[Organism] AND matK[Gene]'}"
      ]
     },
     "execution_count": 9,
     "metadata": {},
     "output_type": "execute_result"
    }
   ],
   "source": [
    "record"
   ]
  },
  {
   "cell_type": "code",
   "execution_count": null,
   "metadata": {},
   "outputs": [],
   "source": []
  }
 ],
 "metadata": {
  "kernelspec": {
   "display_name": "Python 3",
   "language": "python",
   "name": "python3"
  },
  "language_info": {
   "codemirror_mode": {
    "name": "ipython",
    "version": 3
   },
   "file_extension": ".py",
   "mimetype": "text/x-python",
   "name": "python",
   "nbconvert_exporter": "python",
   "pygments_lexer": "ipython3",
   "version": "3.7.1"
  }
 },
 "nbformat": 4,
 "nbformat_minor": 2
}
