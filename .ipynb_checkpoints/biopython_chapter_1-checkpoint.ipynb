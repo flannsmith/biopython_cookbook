{
 "cells": [
  {
   "cell_type": "code",
   "execution_count": 2,
   "metadata": {},
   "outputs": [
    {
     "name": "stdout",
     "output_type": "stream",
     "text": [
      "IUPACUnambiguousDNA()\n",
      "AGTACACTGGT\n",
      "A\n",
      "2\n",
      "3\n",
      "46.875\n",
      "GCTGTAGTAAG\n",
      "CGCTAAAAGCTAGGATATATCCGGGTAGCTAG\n"
     ]
    }
   ],
   "source": [
    "from Bio import SeqIO\n",
    "from Bio.Seq import Seq\n",
    "from Bio.Alphabet import IUPAC\n",
    "\n",
    "#read in data from fasta file\n",
    "# for seq_record in SeqIO.parse('ls_orchid.fasta.rtf', \"fasta\"):\n",
    "#     print(seq_record.id)\n",
    "#     print(repr(seq_record.seq))\n",
    "#     print(len(seq_record))\n",
    "\n",
    "my_seq = Seq(\"AGTACACTGGT\", IUPAC.unambiguous_dna)\n",
    "print(my_seq.alphabet)\n",
    "\n",
    "my_prot = Seq(\"AGTACACTGGT\", IUPAC.protein)\n",
    "print(my_prot)\n",
    "\n",
    "#print index and corresponding letter of my_seq\n",
    "for index, letter in enumerate(my_seq):\n",
    "     print(\"%i %s\" % (index,letter))\n",
    "\n",
    "#print(len(my_seq))\n",
    "print((my_seq[0]))\n",
    "\n",
    "#count occurrence of letters AA in sequence\n",
    "print(Seq(\"AAAA\").count(\"AA\"))\n",
    "\n",
    "print(my_seq.count(\"G\"))\n",
    "\n",
    "#calculate GC percentage\n",
    "100 * float(my_seq.count(\"G\") + my_seq.count(\"C\")) / len(my_seq)\n",
    "\n",
    "from Bio.SeqUtils import GC\n",
    "my_seq_2 = Seq(\"GATCGATGGGCCTATATAGGATCGAAAATCGC\", IUPAC.unambiguous_dna)\n",
    "print(GC(my_seq_2))\n",
    "\n",
    "\n",
    "print(my_seq_2[0::3])\n",
    "\n",
    "#nucleotide sequences and reverse complements\n",
    "my_seq3 = Seq(\"GATCGATGGGCCTATATAGGATCGAAAATCGC\", IUPAC.unambiguous_dna)\n",
    "#print(my_seq3.complement())\n",
    "#print(my_seq3.reverse_complement())\n",
    "\n",
    "#What is the difference between complement and reverse complement?\n",
    "\n",
    "#To reverse a Seq object or string: slice it with- 1\n",
    "print(my_seq3[::-1])\n",
    "\n",
    "protein_seq = Seq(\"EVRNAK\", IUPAC.protein)\n",
    "\n",
    "#protein_seq.complement()\n",
    "#print(protein_seq)\n",
    "#Error: proteins do not have complements! \n",
    "\n",
    "\n",
    "\n",
    "\n",
    "\n",
    "\n"
   ]
  },
  {
   "cell_type": "markdown",
   "metadata": {},
   "source": [
    "### Transcription"
   ]
  },
  {
   "cell_type": "code",
   "execution_count": null,
   "metadata": {},
   "outputs": [],
   "source": []
  }
 ],
 "metadata": {
  "kernelspec": {
   "display_name": "Python 3",
   "language": "python",
   "name": "python3"
  },
  "language_info": {
   "codemirror_mode": {
    "name": "ipython",
    "version": 3
   },
   "file_extension": ".py",
   "mimetype": "text/x-python",
   "name": "python",
   "nbconvert_exporter": "python",
   "pygments_lexer": "ipython3",
   "version": "3.6.4"
  }
 },
 "nbformat": 4,
 "nbformat_minor": 2
}
